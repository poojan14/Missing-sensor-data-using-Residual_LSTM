{
 "cells": [
  {
   "cell_type": "code",
   "execution_count": 1,
   "metadata": {},
   "outputs": [
    {
     "data": {
      "text/html": [
       "<div>\n",
       "<style scoped>\n",
       "    .dataframe tbody tr th:only-of-type {\n",
       "        vertical-align: middle;\n",
       "    }\n",
       "\n",
       "    .dataframe tbody tr th {\n",
       "        vertical-align: top;\n",
       "    }\n",
       "\n",
       "    .dataframe thead th {\n",
       "        text-align: right;\n",
       "    }\n",
       "</style>\n",
       "<table border=\"1\" class=\"dataframe\">\n",
       "  <thead>\n",
       "    <tr style=\"text-align: right;\">\n",
       "      <th></th>\n",
       "      <th>Unnamed: 0.1</th>\n",
       "      <th>Timestamp</th>\n",
       "      <th>BreathingDepth</th>\n",
       "      <th>BreathingRate</th>\n",
       "      <th>Cadence</th>\n",
       "    </tr>\n",
       "  </thead>\n",
       "  <tbody>\n",
       "    <tr>\n",
       "      <th>0</th>\n",
       "      <td>4</td>\n",
       "      <td>2018-06-14T06:08:21.000-07:00</td>\n",
       "      <td>6.0</td>\n",
       "      <td>18.750000</td>\n",
       "      <td>0.0</td>\n",
       "    </tr>\n",
       "    <tr>\n",
       "      <th>1</th>\n",
       "      <td>6</td>\n",
       "      <td>2018-06-14T06:08:23.000-07:00</td>\n",
       "      <td>3.0</td>\n",
       "      <td>22.058823</td>\n",
       "      <td>0.0</td>\n",
       "    </tr>\n",
       "    <tr>\n",
       "      <th>2</th>\n",
       "      <td>11</td>\n",
       "      <td>2018-06-14T06:08:28.000-07:00</td>\n",
       "      <td>4.0</td>\n",
       "      <td>18.750000</td>\n",
       "      <td>0.0</td>\n",
       "    </tr>\n",
       "    <tr>\n",
       "      <th>3</th>\n",
       "      <td>14</td>\n",
       "      <td>2018-06-14T06:08:31.000-07:00</td>\n",
       "      <td>4.0</td>\n",
       "      <td>22.058823</td>\n",
       "      <td>0.0</td>\n",
       "    </tr>\n",
       "    <tr>\n",
       "      <th>4</th>\n",
       "      <td>16</td>\n",
       "      <td>2018-06-14T06:08:33.000-07:00</td>\n",
       "      <td>2.0</td>\n",
       "      <td>22.058823</td>\n",
       "      <td>0.0</td>\n",
       "    </tr>\n",
       "  </tbody>\n",
       "</table>\n",
       "</div>"
      ],
      "text/plain": [
       "   Unnamed: 0.1                      Timestamp  BreathingDepth  BreathingRate  \\\n",
       "0             4  2018-06-14T06:08:21.000-07:00             6.0      18.750000   \n",
       "1             6  2018-06-14T06:08:23.000-07:00             3.0      22.058823   \n",
       "2            11  2018-06-14T06:08:28.000-07:00             4.0      18.750000   \n",
       "3            14  2018-06-14T06:08:31.000-07:00             4.0      22.058823   \n",
       "4            16  2018-06-14T06:08:33.000-07:00             2.0      22.058823   \n",
       "\n",
       "   Cadence  \n",
       "0      0.0  \n",
       "1      0.0  \n",
       "2      0.0  \n",
       "3      0.0  \n",
       "4      0.0  "
      ]
     },
     "execution_count": 1,
     "metadata": {},
     "output_type": "execute_result"
    }
   ],
   "source": [
    "import pandas as pd\n",
    "df=pd.read_csv(r\"/home/poojan/120omsignaltrain.csv\")\n",
    "df=df[df.columns[1:6]]\n",
    "df.head()\n"
   ]
  },
  {
   "cell_type": "code",
   "execution_count": 2,
   "metadata": {},
   "outputs": [
    {
     "data": {
      "text/plain": [
       "(28292488, 5)"
      ]
     },
     "execution_count": 2,
     "metadata": {},
     "output_type": "execute_result"
    }
   ],
   "source": [
    "df.shape"
   ]
  },
  {
   "cell_type": "code",
   "execution_count": 3,
   "metadata": {},
   "outputs": [
    {
     "data": {
      "text/html": [
       "<div>\n",
       "<style scoped>\n",
       "    .dataframe tbody tr th:only-of-type {\n",
       "        vertical-align: middle;\n",
       "    }\n",
       "\n",
       "    .dataframe tbody tr th {\n",
       "        vertical-align: top;\n",
       "    }\n",
       "\n",
       "    .dataframe thead th {\n",
       "        text-align: right;\n",
       "    }\n",
       "</style>\n",
       "<table border=\"1\" class=\"dataframe\">\n",
       "  <thead>\n",
       "    <tr style=\"text-align: right;\">\n",
       "      <th></th>\n",
       "      <th>BreathingRate</th>\n",
       "    </tr>\n",
       "  </thead>\n",
       "  <tbody>\n",
       "    <tr>\n",
       "      <th>0</th>\n",
       "      <td>24.590163</td>\n",
       "    </tr>\n",
       "    <tr>\n",
       "      <th>1</th>\n",
       "      <td>27.777777</td>\n",
       "    </tr>\n",
       "    <tr>\n",
       "      <th>2</th>\n",
       "      <td>26.785714</td>\n",
       "    </tr>\n",
       "    <tr>\n",
       "      <th>3</th>\n",
       "      <td>26.785714</td>\n",
       "    </tr>\n",
       "    <tr>\n",
       "      <th>4</th>\n",
       "      <td>24.590163</td>\n",
       "    </tr>\n",
       "  </tbody>\n",
       "</table>\n",
       "</div>"
      ],
      "text/plain": [
       "   BreathingRate\n",
       "0      24.590163\n",
       "1      27.777777\n",
       "2      26.785714\n",
       "3      26.785714\n",
       "4      24.590163"
      ]
     },
     "execution_count": 3,
     "metadata": {},
     "output_type": "execute_result"
    }
   ],
   "source": [
    "\n",
    "df1=pd.read_csv(r\"/home/poojan/testing/omsignal125.csv\")\n",
    "df=df[['BreathingRate']]\n",
    "df1=df1[['BreathingRate']]\n",
    "df1.head()"
   ]
  },
  {
   "cell_type": "code",
   "execution_count": 4,
   "metadata": {},
   "outputs": [
    {
     "name": "stderr",
     "output_type": "stream",
     "text": [
      "Using TensorFlow backend.\n"
     ]
    }
   ],
   "source": [
    "from time import time\n",
    "import matplotlib.ticker as tkr\n",
    "import numpy as np\n",
    "import matplotlib.pyplot as plt\n",
    "%matplotlib inline\n",
    "import math\n",
    "import keras\n",
    "from keras.models import Sequential\n",
    "from keras.layers import *\n",
    "from sklearn.preprocessing import MinMaxScaler\n",
    "from sklearn.metrics import mean_squared_error\n",
    "from sklearn.metrics import mean_absolute_error\n",
    "from keras.callbacks import EarlyStopping\n",
    "\n",
    "dataset = df.BreathingRate.values \n",
    "dataset = dataset.astype('float32')\n",
    "dataset = np.reshape(dataset, (-1, 1))\n",
    "scaler = MinMaxScaler(feature_range=(0, 1))\n",
    "dataset = scaler.fit_transform(dataset)\n",
    "train_size = int(len(dataset) * 0.75)\n",
    "test_size = len(dataset) - train_size\n",
    "train, test = dataset[0:train_size,:], dataset[train_size:len(dataset),:]\n",
    "\n",
    "\n",
    "\n",
    "dataset1 = np.reshape(df1, (-1, 1))\n",
    "scaler = MinMaxScaler(feature_range=(0, 1))\n",
    "dataset1 = scaler.fit_transform(dataset1)\n",
    "train_size = int(len(dataset1) * 0.75)\n",
    "test_size = len(dataset1) - train_size\n",
    "train1, test1 = dataset1[0:train_size,:], dataset1[train_size:len(dataset),:]\n"
   ]
  },
  {
   "cell_type": "code",
   "execution_count": 5,
   "metadata": {},
   "outputs": [
    {
     "name": "stdout",
     "output_type": "stream",
     "text": [
      "Percentage of newly generated missing values:  9.894931717638007  %\n"
     ]
    }
   ],
   "source": [
    "# Insert missing rate\n",
    "df1=df1.to_numpy()\n",
    "import torch\n",
    "def produce_NA(X, p_miss, mecha=\"MCAR\", opt=None, p_obs=None, q=None):\n",
    "   \n",
    "    to_torch = torch.is_tensor(X) ## output a pytorch tensor, or a numpy array\n",
    "    if not to_torch:\n",
    "        X = X.astype(np.float32)\n",
    "        X = torch.from_numpy(X)\n",
    "    \n",
    "    if mecha == \"MAR\":\n",
    "        mask = MAR_mask(X, p_miss, p_obs).double()\n",
    "    elif mecha == \"MNAR\" and opt == \"logistic\":\n",
    "        mask = MNAR_mask_logistic(X, p_miss, p_obs).double()\n",
    "    elif mecha == \"MNAR\" and opt == \"quantile\":\n",
    "        mask = MNAR_mask_quantiles(X, p_miss, q, 1-p_obs).double()\n",
    "    elif mecha == \"MNAR\" and opt == \"selfmasked\":\n",
    "        mask = MNAR_self_mask_logistic(X, p_miss).double()\n",
    "    else:\n",
    "        mask = (torch.rand(X.shape) < p_miss).double()\n",
    "    \n",
    "    X_nas = X.clone()\n",
    "    X_nas[mask.bool()] = np.nan\n",
    "    \n",
    "    return {'X_init': X.double(), 'X_incomp': X_nas.double(), 'mask': mask}\n",
    "\n",
    "import numpy as np\n",
    "X_miss_mcar = produce_NA(test1, p_miss=0.1, mecha=\"MCAR\")\n",
    "\n",
    "X_mcar = X_miss_mcar['X_incomp']\n",
    "R_mcar = X_miss_mcar['mask']\n",
    "\n",
    "print(\"Percentage of newly generated missing values: \", (R_mcar.sum()).numpy()/np.prod(R_mcar.size())*100, \" %\")"
   ]
  },
  {
   "cell_type": "code",
   "execution_count": 6,
   "metadata": {},
   "outputs": [],
   "source": [
    "new_test=X_mcar.numpy()\n",
    "new_test=pd.DataFrame(new_test)\n",
    "new_test.columns=['BreathingRate']\n",
    "new_test=test"
   ]
  },
  {
   "cell_type": "code",
   "execution_count": 7,
   "metadata": {},
   "outputs": [],
   "source": [
    "# convert an array of values into a dataset matrix\n",
    "def create_dataset(dataset, look_back=1):\n",
    "    X, Y = [], []\n",
    "    for i in range(len(dataset)-look_back-1):\n",
    "        a = dataset[i:(i+look_back), 0]\n",
    "        X.append(a)\n",
    "        Y.append(dataset[i + look_back, 0])\n",
    "    return np.array(X), np.array(Y)"
   ]
  },
  {
   "cell_type": "code",
   "execution_count": 8,
   "metadata": {},
   "outputs": [],
   "source": [
    "# reshape into X=t and Y=t+1\n",
    "look_back =64\n",
    "X_train, Y_train = create_dataset(train, look_back)\n",
    "X_test, Y_test = create_dataset(test, look_back)\n",
    "X_impute,Y_impute=create_dataset(test1, look_back)\n",
    "X_train = np.reshape(X_train, (X_train.shape[0], 1, X_train.shape[1]))\n",
    "X_test = np.reshape(X_test, (X_test.shape[0], 1, X_test.shape[1]))\n",
    "\n",
    "X_impute=np.reshape(X_impute, (X_impute.shape[0], 1, X_impute.shape[1]))"
   ]
  },
  {
   "cell_type": "code",
   "execution_count": 9,
   "metadata": {},
   "outputs": [
    {
     "name": "stdout",
     "output_type": "stream",
     "text": [
      "Created model and loaded weights from file\n",
      "4.250426530838013\n"
     ]
    }
   ],
   "source": [
    "import time\n",
    "start = time.time()\n",
    "import os\n",
    "import tensorflow as tf\n",
    "from keras.callbacks import ModelCheckpoint\n",
    "from keras.layers.merge import add\n",
    "def make_residual_lstm_layers(input, hidden_neurons, rnn_depth, rnn_dropout):\n",
    "    x = input\n",
    "    for i in range(rnn_depth):\n",
    "        \n",
    "        return_sequences = i < rnn_depth - 1\n",
    "        x_rnn = Bidirectional(LSTM(hidden_neurons, recurrent_dropout=rnn_dropout, dropout=rnn_dropout, \n",
    "                     return_sequences=return_sequences))(x)\n",
    "        \n",
    "        if return_sequences:\n",
    "            \n",
    "            if i > 0 or input.shape[-1] == hidden_neurons:\n",
    "                x = add([x, x_rnn])\n",
    "            else:\n",
    "                x = x_rnn\n",
    "        else:\n",
    "            \n",
    "            x =LSTM(1, activation='sigmoid', \n",
    "                     recurrent_dropout=rnn_dropout, dropout=rnn_dropout, \n",
    "                     return_sequences=return_sequences)(x)            \n",
    "    return x\n",
    "from keras.layers import Input\n",
    "from keras.models import Model\n",
    "input = Input(shape=((1, 64)))\n",
    "output = make_residual_lstm_layers(input, hidden_neurons=2, rnn_depth=4, rnn_dropout=0.1)\n",
    "\n",
    "model = Model(inputs=input, outputs=output)\n",
    "\n",
    "model.load_weights(\"train_br_res-lstm_10\")\n",
    "model.compile(loss='mean_squared_error', optimizer='adam')\n",
    "print(\"Created model and loaded weights from file\")\n",
    "\n",
    "\n",
    "end = time.time()\n",
    "print(end - start)"
   ]
  },
  {
   "cell_type": "code",
   "execution_count": 10,
   "metadata": {},
   "outputs": [
    {
     "name": "stdout",
     "output_type": "stream",
     "text": [
      "Test Mean Absolute Error: 1.4733102534262323\n",
      "6.305222511291504\n"
     ]
    }
   ],
   "source": [
    "import time\n",
    "start = time.time()\n",
    "\n",
    "test_predict = model.predict(X_impute)\n",
    "test_predict = scaler.inverse_transform(test_predict)\n",
    "Y_test = scaler.inverse_transform([Y_impute])\n",
    "print('Test Mean Absolute Error:', mean_absolute_error(Y_test[0], test_predict[:,0]))\n",
    "end = time.time()\n",
    "print(end - start)"
   ]
  }
 ],
 "metadata": {
  "kernelspec": {
   "display_name": "Python 3",
   "language": "python",
   "name": "python3"
  },
  "language_info": {
   "codemirror_mode": {
    "name": "ipython",
    "version": 3
   },
   "file_extension": ".py",
   "mimetype": "text/x-python",
   "name": "python",
   "nbconvert_exporter": "python",
   "pygments_lexer": "ipython3",
   "version": "3.6.9"
  }
 },
 "nbformat": 4,
 "nbformat_minor": 2
}
