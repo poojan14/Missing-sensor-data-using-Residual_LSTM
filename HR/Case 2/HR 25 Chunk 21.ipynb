{
 "cells": [
  {
   "cell_type": "code",
   "execution_count": 1,
   "metadata": {},
   "outputs": [
    {
     "data": {
      "text/html": [
       "<div>\n",
       "<style scoped>\n",
       "    .dataframe tbody tr th:only-of-type {\n",
       "        vertical-align: middle;\n",
       "    }\n",
       "\n",
       "    .dataframe tbody tr th {\n",
       "        vertical-align: top;\n",
       "    }\n",
       "\n",
       "    .dataframe thead th {\n",
       "        text-align: right;\n",
       "    }\n",
       "</style>\n",
       "<table border=\"1\" class=\"dataframe\">\n",
       "  <thead>\n",
       "    <tr style=\"text-align: right;\">\n",
       "      <th></th>\n",
       "      <th>BreathingDepth</th>\n",
       "      <th>BreathingRate</th>\n",
       "      <th>Cadence</th>\n",
       "      <th>HeartRate</th>\n",
       "      <th>Intensity</th>\n",
       "    </tr>\n",
       "  </thead>\n",
       "  <tbody>\n",
       "    <tr>\n",
       "      <th>0</th>\n",
       "      <td>6.0</td>\n",
       "      <td>18.750000</td>\n",
       "      <td>0.0</td>\n",
       "      <td>61.000000</td>\n",
       "      <td>0.066881</td>\n",
       "    </tr>\n",
       "    <tr>\n",
       "      <th>1</th>\n",
       "      <td>3.0</td>\n",
       "      <td>22.058823</td>\n",
       "      <td>0.0</td>\n",
       "      <td>60.110094</td>\n",
       "      <td>0.058578</td>\n",
       "    </tr>\n",
       "    <tr>\n",
       "      <th>2</th>\n",
       "      <td>4.0</td>\n",
       "      <td>18.750000</td>\n",
       "      <td>0.0</td>\n",
       "      <td>58.153725</td>\n",
       "      <td>0.066881</td>\n",
       "    </tr>\n",
       "    <tr>\n",
       "      <th>3</th>\n",
       "      <td>4.0</td>\n",
       "      <td>22.058823</td>\n",
       "      <td>0.0</td>\n",
       "      <td>58.761372</td>\n",
       "      <td>0.087361</td>\n",
       "    </tr>\n",
       "    <tr>\n",
       "      <th>4</th>\n",
       "      <td>2.0</td>\n",
       "      <td>22.058823</td>\n",
       "      <td>0.0</td>\n",
       "      <td>59.609966</td>\n",
       "      <td>0.087361</td>\n",
       "    </tr>\n",
       "  </tbody>\n",
       "</table>\n",
       "</div>"
      ],
      "text/plain": [
       "   BreathingDepth  BreathingRate  Cadence  HeartRate  Intensity\n",
       "0             6.0      18.750000      0.0  61.000000   0.066881\n",
       "1             3.0      22.058823      0.0  60.110094   0.058578\n",
       "2             4.0      18.750000      0.0  58.153725   0.066881\n",
       "3             4.0      22.058823      0.0  58.761372   0.087361\n",
       "4             2.0      22.058823      0.0  59.609966   0.087361"
      ]
     },
     "execution_count": 1,
     "metadata": {},
     "output_type": "execute_result"
    }
   ],
   "source": [
    "import pandas as pd\n",
    "df=pd.read_csv(r\"/home/poojan/file2.csv\")\n",
    "df=df[df.columns[1:6]]\n",
    "df.head()\n"
   ]
  },
  {
   "cell_type": "code",
   "execution_count": 2,
   "metadata": {},
   "outputs": [
    {
     "data": {
      "text/plain": [
       "(36488384, 5)"
      ]
     },
     "execution_count": 2,
     "metadata": {},
     "output_type": "execute_result"
    }
   ],
   "source": [
    "df.shape"
   ]
  },
  {
   "cell_type": "code",
   "execution_count": 3,
   "metadata": {},
   "outputs": [],
   "source": [
    "df=df[['HeartRate']]"
   ]
  },
  {
   "cell_type": "code",
   "execution_count": 4,
   "metadata": {},
   "outputs": [
    {
     "name": "stderr",
     "output_type": "stream",
     "text": [
      "Using TensorFlow backend.\n"
     ]
    }
   ],
   "source": [
    "from time import time\n",
    "import matplotlib.ticker as tkr\n",
    "import numpy as np\n",
    "import matplotlib.pyplot as plt\n",
    "%matplotlib inline\n",
    "import math\n",
    "import keras\n",
    "from keras.models import Sequential\n",
    "from keras.layers import *\n",
    "from sklearn.preprocessing import MinMaxScaler\n",
    "from sklearn.metrics import mean_squared_error\n",
    "from sklearn.metrics import mean_absolute_error\n",
    "from keras.callbacks import EarlyStopping\n",
    "\n",
    "dataset = df.HeartRate.values \n",
    "dataset = dataset.astype('float32')\n",
    "dataset = np.reshape(dataset, (-1, 1))\n",
    "scaler = MinMaxScaler(feature_range=(0, 1))\n",
    "dataset = scaler.fit_transform(dataset)\n",
    "train_size = int(len(dataset) * 0.75)\n",
    "test_size = len(dataset) - train_size\n",
    "train, test = dataset[0:train_size,:], dataset[train_size:len(dataset),:]"
   ]
  },
  {
   "cell_type": "code",
   "execution_count": 5,
   "metadata": {},
   "outputs": [],
   "source": [
    "def split_dataframe(df, chunk_size): \n",
    "    chunks = list()\n",
    "    num_chunks = len(df) // chunk_size + 1\n",
    "    for i in range(num_chunks):\n",
    "        chunks.append(df[i*chunk_size:(i+1)*chunk_size])\n",
    "    return chunks\n",
    "\n",
    "test_split = split_dataframe(test, chunk_size=3600)\n",
    "\n"
   ]
  },
  {
   "cell_type": "code",
   "execution_count": 6,
   "metadata": {},
   "outputs": [
    {
     "name": "stdout",
     "output_type": "stream",
     "text": [
      "Percentage of newly generated missing values:  24.138888888888886  %\n"
     ]
    }
   ],
   "source": [
    "# Insert missing rate\n",
    "import torch\n",
    "def produce_NA(X, p_miss, mecha=\"MAR\", opt=None, p_obs=None, q=None):\n",
    "   \n",
    "    to_torch = torch.is_tensor(X) ## output a pytorch tensor, or a numpy array\n",
    "    if not to_torch:\n",
    "        X = X.astype(np.float32)\n",
    "        X = torch.from_numpy(X)\n",
    "    \n",
    "    if mecha == \"MAR\":\n",
    "        mask = MAR_mask(X, p_miss, p_obs).double()\n",
    "    elif mecha == \"MNAR\" and opt == \"logistic\":\n",
    "        mask = MNAR_mask_logistic(X, p_miss, p_obs).double()\n",
    "    elif mecha == \"MNAR\" and opt == \"quantile\":\n",
    "        mask = MNAR_mask_quantiles(X, p_miss, q, 1-p_obs).double()\n",
    "    elif mecha == \"MNAR\" and opt == \"selfmasked\":\n",
    "        mask = MNAR_self_mask_logistic(X, p_miss).double()\n",
    "    else:\n",
    "        mask = (torch.rand(X.shape) < p_miss).double()\n",
    "    \n",
    "    X_nas = X.clone()\n",
    "    X_nas[mask.bool()] = np.nan\n",
    "    \n",
    "    return {'X_init': X.double(), 'X_incomp': X_nas.double(), 'mask': mask}\n",
    "\n",
    "import numpy as np\n",
    "X_miss_mcar = produce_NA(test_split[1050], p_miss=0.25, mecha=\"MCAR\")\n",
    "\n",
    "X_mcar = X_miss_mcar['X_incomp']\n",
    "R_mcar = X_miss_mcar['mask']\n",
    "\n",
    "print(\"Percentage of newly generated missing values: \", (R_mcar.sum()).numpy()/np.prod(R_mcar.size())*100, \" %\")"
   ]
  },
  {
   "cell_type": "code",
   "execution_count": 7,
   "metadata": {},
   "outputs": [],
   "source": [
    "new_test=X_mcar.numpy()\n",
    "new_test=pd.DataFrame(new_test)\n",
    "new_test.columns=['HeartRate']\n",
    "test=test_split[1050]"
   ]
  },
  {
   "cell_type": "code",
   "execution_count": 8,
   "metadata": {},
   "outputs": [],
   "source": [
    "# convert an array of values into a dataset matrix\n",
    "def create_dataset(dataset, look_back=1):\n",
    "    X, Y = [], []\n",
    "    for i in range(len(dataset)-look_back-1):\n",
    "        a = dataset[i:(i+look_back), 0]\n",
    "        X.append(a)\n",
    "        Y.append(dataset[i + look_back, 0])\n",
    "    return np.array(X), np.array(Y)"
   ]
  },
  {
   "cell_type": "code",
   "execution_count": 9,
   "metadata": {},
   "outputs": [],
   "source": [
    "# reshape into X=t and Y=t+1\n",
    "look_back = 128\n",
    "X_train, Y_train = create_dataset(train, look_back)\n",
    "X_test, Y_test = create_dataset(test, look_back)\n",
    "\n",
    "X_train = np.reshape(X_train, (X_train.shape[0], 1, X_train.shape[1]))\n",
    "X_test = np.reshape(X_test, (X_test.shape[0], 1, X_test.shape[1]))"
   ]
  },
  {
   "cell_type": "code",
   "execution_count": 10,
   "metadata": {},
   "outputs": [
    {
     "name": "stdout",
     "output_type": "stream",
     "text": [
      "Created model and loaded weights from file\n",
      "5.474641799926758\n"
     ]
    }
   ],
   "source": [
    "import time\n",
    "start = time.time()\n",
    "import os\n",
    "import tensorflow as tf\n",
    "from keras.callbacks import ModelCheckpoint\n",
    "from keras.layers.merge import add\n",
    "def make_residual_lstm_layers(input, rnn_width, rnn_depth, rnn_dropout):\n",
    "    x = input\n",
    "    for i in range(rnn_depth):\n",
    "        \n",
    "        return_sequences = i < rnn_depth - 1\n",
    "        x_rnn = Bidirectional(LSTM(rnn_width, recurrent_dropout=rnn_dropout, dropout=rnn_dropout, \n",
    "                     return_sequences=return_sequences))(x)\n",
    "        \n",
    "        if return_sequences:\n",
    "            \n",
    "            if i > 0 or input.shape[-1] == rnn_width:\n",
    "                x = add([x, x_rnn])\n",
    "            else:\n",
    "                x = x_rnn\n",
    "        else:\n",
    "            \n",
    "            x =LSTM(1, activation='sigmoid', \n",
    "                     recurrent_dropout=rnn_dropout, dropout=rnn_dropout, \n",
    "                     return_sequences=return_sequences)(x)            \n",
    "    return x\n",
    "from keras.layers import Input\n",
    "from keras.models import Model\n",
    "input = Input(shape=((1, 128)))\n",
    "output = make_residual_lstm_layers(input, rnn_width=8, rnn_depth=4, rnn_dropout=0.1)\n",
    "model = Model(inputs=input, outputs=output)\n",
    "\n",
    "model.load_weights(\"training_hr_res-lstm_25\")\n",
    "model.compile(loss='mean_squared_error', optimizer='adam')\n",
    "print(\"Created model and loaded weights from file\")\n",
    "\n",
    "end = time.time()\n",
    "print(end - start)"
   ]
  },
  {
   "cell_type": "code",
   "execution_count": 11,
   "metadata": {},
   "outputs": [
    {
     "name": "stdout",
     "output_type": "stream",
     "text": [
      "Missing test Mean Absolute Error: 3.2661122023557514\n",
      "1.6627702713012695\n"
     ]
    }
   ],
   "source": [
    "import time\n",
    "start = time.time()\n",
    "missing_predict = model.predict(X_test)\n",
    "missing_predict = scaler.inverse_transform(missing_predict)\n",
    "Y_test = scaler.inverse_transform([Y_test])\n",
    "print('Missing test Mean Absolute Error:', mean_absolute_error(Y_test[0], missing_predict[:,0]))\n",
    "end = time.time()\n",
    "print(end - start)"
   ]
  }
 ],
 "metadata": {
  "kernelspec": {
   "display_name": "Python 3",
   "language": "python",
   "name": "python3"
  },
  "language_info": {
   "codemirror_mode": {
    "name": "ipython",
    "version": 3
   },
   "file_extension": ".py",
   "mimetype": "text/x-python",
   "name": "python",
   "nbconvert_exporter": "python",
   "pygments_lexer": "ipython3",
   "version": "3.6.9"
  }
 },
 "nbformat": 4,
 "nbformat_minor": 2
}
